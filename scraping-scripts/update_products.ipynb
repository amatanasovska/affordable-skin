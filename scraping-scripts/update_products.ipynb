{
 "cells": [
  {
   "cell_type": "code",
   "execution_count": 28,
   "metadata": {},
   "outputs": [],
   "source": [
    "import pandas as pd\n",
    "from pandasql import sqldf\n",
    "import pyodbc\n",
    "import yaml"
   ]
  },
  {
   "attachments": {},
   "cell_type": "markdown",
   "metadata": {},
   "source": [
    "### Functions"
   ]
  },
  {
   "cell_type": "code",
   "execution_count": 29,
   "metadata": {},
   "outputs": [],
   "source": [
    "def levenshtein_distance(s, t):\n",
    "    m, n = len(s), len(t)\n",
    "    \n",
    "    distance = [[0 for j in range(n+1)] for i in range(m+1)]\n",
    "    \n",
    "    for i in range(1, m+1):\n",
    "        distance[i][0] = i\n",
    "    for j in range(1, n+1):\n",
    "        distance[0][j] = j\n",
    "    \n",
    "    for j in range(1, n+1):\n",
    "        for i in range(1, m+1):\n",
    "            if s[i-1] == t[j-1]:\n",
    "                cost = 0\n",
    "            else:\n",
    "                cost = 1\n",
    "            distance[i][j] = min(distance[i-1][j] + 1, distance[i][j-1] + 1, distance[i-1][j-1] + cost)\n",
    "    \n",
    "    return distance[m][n]\n"
   ]
  },
  {
   "cell_type": "code",
   "execution_count": 30,
   "metadata": {},
   "outputs": [],
   "source": [
    "def compare_products(from_db, from_csv):\n",
    "    name1, name2 = from_db[2], from_csv[1]\n",
    "    return from_db[0] if levenshtein_distance(name1,name2)<max(len(name1),len(name2))//3 else None"
   ]
  },
  {
   "attachments": {},
   "cell_type": "markdown",
   "metadata": {},
   "source": [
    "### Db init"
   ]
  },
  {
   "cell_type": "code",
   "execution_count": 31,
   "metadata": {},
   "outputs": [],
   "source": [
    "cn = pyodbc.connect('Driver={ODBC Driver 17 for SQL Server};Server=(localdb)\\mssqllocaldb;Database=AffordableSkin;Trusted_Connection=yes')\n"
   ]
  },
  {
   "cell_type": "code",
   "execution_count": 32,
   "metadata": {},
   "outputs": [],
   "source": [
    "cr = cn.cursor()"
   ]
  },
  {
   "attachments": {},
   "cell_type": "markdown",
   "metadata": {},
   "source": [
    "### Get configuration settings"
   ]
  },
  {
   "cell_type": "code",
   "execution_count": 33,
   "metadata": {},
   "outputs": [
    {
     "name": "stdout",
     "output_type": "stream",
     "text": [
      "{'include_files': ['coslovemetics_all_products.csv', 'yeppeuda_all_products.csv']}\n"
     ]
    }
   ],
   "source": [
    "with open(r'config.yaml') as file:\n",
    "    conf = yaml.load(file, Loader=yaml.FullLoader)\n",
    "    print(conf)"
   ]
  },
  {
   "cell_type": "code",
   "execution_count": 34,
   "metadata": {},
   "outputs": [],
   "source": [
    "include_files = conf['include_files']"
   ]
  },
  {
   "attachments": {},
   "cell_type": "markdown",
   "metadata": {},
   "source": [
    "### Get existing products"
   ]
  },
  {
   "cell_type": "code",
   "execution_count": 35,
   "metadata": {},
   "outputs": [],
   "source": [
    "all_product_prices_with_ids = []"
   ]
  },
  {
   "cell_type": "code",
   "execution_count": 36,
   "metadata": {},
   "outputs": [],
   "source": [
    "for file in include_files:\n",
    "    df = pd.read_csv(file)\n",
    "    unique_brands = df.brand.unique()\n",
    "    \n",
    "    seller = file.split(\"_\")[0]\n",
    "    sql = f\"select max(Id) from Product\"\n",
    "    cr.execute(sql)\n",
    "    max_id = cr.fetchone()[0] \n",
    "    for brand in unique_brands:\n",
    "        \n",
    "        sql = \"select * from Product where BrandName = ?\"\n",
    "        values = (brand)\n",
    "        cr.execute(sql,values)\n",
    "        brand_products = cr.fetchall()\n",
    "\n",
    "        q = f\"\"\"select * from df where brand = '{brand}'\"\"\"\n",
    "        brand_df = sqldf(q, globals())\n",
    "        for index,row in brand_df.iterrows():\n",
    "            product_id = None\n",
    "            for product in brand_products:\n",
    "                id = compare_products(product,row.tolist())\n",
    "                if id != None:\n",
    "                    product_id = id\n",
    "                    break\n",
    "            product_values = [row[0], row[1], 0, row[4]]\n",
    "            product_prices_values = [row[3], seller, row[2],row[5]]\n",
    "            if product_id is None:\n",
    "                sql = \"insert into Product values (?, ?, ?, ?)\"\n",
    "                \n",
    "                values = tuple(product_values)\n",
    "                cr.execute(sql,values)\n",
    "                cn.commit()\n",
    "                \n",
    "                all_product_prices_with_ids.append([max_id+1] + product_prices_values)\n",
    "                max_id+=1\n",
    "            else:\n",
    "                all_product_prices_with_ids.append([product_id] + product_prices_values)"
   ]
  },
  {
   "cell_type": "code",
   "execution_count": 37,
   "metadata": {},
   "outputs": [],
   "source": [
    "all_product_prices_with_ids =list(set(map(tuple,all_product_prices_with_ids)))"
   ]
  },
  {
   "cell_type": "code",
   "execution_count": 38,
   "metadata": {},
   "outputs": [],
   "source": [
    "for row in all_product_prices_with_ids:\n",
    "    sql = \"insert into ProductPrice values (?, ?, ?, ?, ?)\"\n",
    "    values = tuple(row)\n",
    "    cr.execute(sql,values)\n",
    "    cn.commit()"
   ]
  },
  {
   "cell_type": "code",
   "execution_count": 39,
   "metadata": {},
   "outputs": [],
   "source": [
    "cn.commit()\n",
    "cr.close()\n",
    "cn.close()"
   ]
  },
  {
   "cell_type": "code",
   "execution_count": null,
   "metadata": {},
   "outputs": [],
   "source": []
  }
 ],
 "metadata": {
  "kernelspec": {
   "display_name": "affordable-skin",
   "language": "python",
   "name": "python3"
  },
  "language_info": {
   "codemirror_mode": {
    "name": "ipython",
    "version": 3
   },
   "file_extension": ".py",
   "mimetype": "text/x-python",
   "name": "python",
   "nbconvert_exporter": "python",
   "pygments_lexer": "ipython3",
   "version": "3.9.16"
  },
  "orig_nbformat": 4
 },
 "nbformat": 4,
 "nbformat_minor": 2
}
