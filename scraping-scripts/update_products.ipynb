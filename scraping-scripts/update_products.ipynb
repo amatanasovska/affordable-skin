{
 "cells": [
  {
   "cell_type": "code",
   "execution_count": 63,
   "metadata": {},
   "outputs": [],
   "source": [
    "import pandas as pd\n",
    "from pandasql import sqldf\n",
    "import pyodbc\n",
    "import yaml"
   ]
  },
  {
   "attachments": {},
   "cell_type": "markdown",
   "metadata": {},
   "source": [
    "### Functions"
   ]
  },
  {
   "cell_type": "code",
   "execution_count": 64,
   "metadata": {},
   "outputs": [],
   "source": [
    "def levenshtein_distance(s, t):\n",
    "    m, n = len(s), len(t)\n",
    "    \n",
    "    distance = [[0 for j in range(n+1)] for i in range(m+1)]\n",
    "    \n",
    "    for i in range(1, m+1):\n",
    "        distance[i][0] = i\n",
    "    for j in range(1, n+1):\n",
    "        distance[0][j] = j\n",
    "    \n",
    "    for j in range(1, n+1):\n",
    "        for i in range(1, m+1):\n",
    "            if s[i-1] == t[j-1]:\n",
    "                cost = 0\n",
    "            else:\n",
    "                cost = 1\n",
    "            distance[i][j] = min(distance[i-1][j] + 1, distance[i][j-1] + 1, distance[i-1][j-1] + cost)\n",
    "    \n",
    "    return distance[m][n]\n"
   ]
  },
  {
   "cell_type": "code",
   "execution_count": 65,
   "metadata": {},
   "outputs": [],
   "source": [
    "def compare_products(from_db, from_csv):\n",
    "    name1, name2 = from_db[2], from_csv[1]\n",
    "    ld = levenshtein_distance(name1.lower(),name2.lower())\n",
    "    return from_db[0], ld if ld<max(len(name1),len(name2))//2 else None"
   ]
  },
  {
   "attachments": {},
   "cell_type": "markdown",
   "metadata": {},
   "source": [
    "### Db init"
   ]
  },
  {
   "cell_type": "code",
   "execution_count": 66,
   "metadata": {},
   "outputs": [],
   "source": [
    "cn = pyodbc.connect('Driver={ODBC Driver 17 for SQL Server};Server=(localdb)\\mssqllocaldb;Database=AffordableSkin;Trusted_Connection=yes')\n"
   ]
  },
  {
   "cell_type": "code",
   "execution_count": 67,
   "metadata": {},
   "outputs": [],
   "source": [
    "cr = cn.cursor()"
   ]
  },
  {
   "attachments": {},
   "cell_type": "markdown",
   "metadata": {},
   "source": [
    "### Get configuration settings"
   ]
  },
  {
   "cell_type": "code",
   "execution_count": 68,
   "metadata": {},
   "outputs": [
    {
     "name": "stdout",
     "output_type": "stream",
     "text": [
      "{'include_files': ['coslovemetics_all_products.csv', 'yeppeuda_all_products.csv']}\n"
     ]
    }
   ],
   "source": [
    "with open(r'config.yaml') as file:\n",
    "    conf = yaml.load(file, Loader=yaml.FullLoader)\n",
    "    print(conf)"
   ]
  },
  {
   "cell_type": "code",
   "execution_count": 69,
   "metadata": {},
   "outputs": [],
   "source": [
    "include_files = conf['include_files']"
   ]
  },
  {
   "attachments": {},
   "cell_type": "markdown",
   "metadata": {},
   "source": [
    "### Get existing products"
   ]
  },
  {
   "cell_type": "code",
   "execution_count": 70,
   "metadata": {},
   "outputs": [],
   "source": [
    "all_product_prices_with_ids = []"
   ]
  },
  {
   "cell_type": "code",
   "execution_count": 71,
   "metadata": {},
   "outputs": [],
   "source": [
    "for file in include_files:\n",
    "    df = pd.read_csv(file)\n",
    "    unique_brands = df.brand.unique()\n",
    "    \n",
    "    seller = file.split(\"_\")[0]\n",
    "    sql = f\"select max(Id) from Product\"\n",
    "    cr.execute(sql)\n",
    "    max_id = cr.fetchone()[0] \n",
    "    for brand in unique_brands:\n",
    "        \n",
    "        sql = \"select * from Product where BrandName = ?\"\n",
    "        values = (brand)\n",
    "        cr.execute(sql,values)\n",
    "        brand_products = cr.fetchall()\n",
    "\n",
    "        q = f\"\"\"select * from df where brand = '{brand}'\"\"\"\n",
    "        brand_df = sqldf(q, globals())\n",
    "        for index,row in brand_df.iterrows():\n",
    "            brand_row = row[4]\n",
    "            product_id = None\n",
    "            min_score = 1000\n",
    "            for product in brand_products:  \n",
    "                id, score = compare_products(product,row.tolist())\n",
    "                if score != None and score<min_score:\n",
    "                    product_id = id\n",
    "                    min_score = score\n",
    "                    \n",
    "            product_values = [row[0], row[1], 0, row[4]]\n",
    "            product_prices_values = [row[3], seller, row[2],row[5],row[1]]\n",
    "            date = row[3]\n",
    "            if product_id is None:\n",
    "                \n",
    "                sql = \"insert into Product values (?, ?, ?, ?)\"\n",
    "                \n",
    "                values = tuple(product_values)\n",
    "                cr.execute(sql,values)\n",
    "                cn.commit()\n",
    "                \n",
    "                all_product_prices_with_ids.append([max_id+1] + product_prices_values)\n",
    "                max_id+=1\n",
    "            else:\n",
    "                sql = \"select * from ProductPrice where Date = ? and ProductId = ?\"\n",
    "                \n",
    "                values = (date, product_id)\n",
    "                cr.execute(sql,values)\n",
    "                added_products = cr.fetchone()\n",
    "                if added_products is None:\n",
    "                    all_product_prices_with_ids.append([product_id] + product_prices_values)\n",
    "                else:\n",
    "                    sql = \"insert into Product values (?, ?, ?, ?)\"\n",
    "                \n",
    "                    values = tuple(product_values)\n",
    "                    cr.execute(sql,values)\n",
    "                    cn.commit()\n",
    "                    \n",
    "                    all_product_prices_with_ids.append([max_id+1] + product_prices_values)\n",
    "                    max_id+=1"
   ]
  },
  {
   "cell_type": "code",
   "execution_count": 72,
   "metadata": {},
   "outputs": [],
   "source": [
    "all_product_prices_with_ids =list(set(map(tuple,all_product_prices_with_ids)))"
   ]
  },
  {
   "cell_type": "code",
   "execution_count": 73,
   "metadata": {},
   "outputs": [],
   "source": [
    "for row in all_product_prices_with_ids:\n",
    "    sql = \"insert into ProductPrice values (?, ?, ?, ?, ?,?)\"\n",
    "    values = tuple(row)\n",
    "    cr.execute(sql,values)\n",
    "    cn.commit()"
   ]
  },
  {
   "cell_type": "code",
   "execution_count": 74,
   "metadata": {},
   "outputs": [],
   "source": [
    "cn.commit()\n",
    "cr.close()\n",
    "cn.close()"
   ]
  },
  {
   "cell_type": "code",
   "execution_count": 75,
   "metadata": {},
   "outputs": [],
   "source": [
    "new_df = pd.DataFrame(all_product_prices_with_ids)"
   ]
  },
  {
   "cell_type": "code",
   "execution_count": 76,
   "metadata": {},
   "outputs": [],
   "source": [
    "new_df.columns=['productId', 'date','seller','price','link','name']"
   ]
  },
  {
   "cell_type": "code",
   "execution_count": 77,
   "metadata": {},
   "outputs": [
    {
     "data": {
      "text/html": [
       "<div>\n",
       "<style scoped>\n",
       "    .dataframe tbody tr th:only-of-type {\n",
       "        vertical-align: middle;\n",
       "    }\n",
       "\n",
       "    .dataframe tbody tr th {\n",
       "        vertical-align: top;\n",
       "    }\n",
       "\n",
       "    .dataframe thead th {\n",
       "        text-align: right;\n",
       "    }\n",
       "</style>\n",
       "<table border=\"1\" class=\"dataframe\">\n",
       "  <thead>\n",
       "    <tr style=\"text-align: right;\">\n",
       "      <th></th>\n",
       "      <th>productId</th>\n",
       "      <th>date</th>\n",
       "      <th>seller</th>\n",
       "      <th>price</th>\n",
       "      <th>link</th>\n",
       "      <th>name</th>\n",
       "    </tr>\n",
       "  </thead>\n",
       "  <tbody>\n",
       "    <tr>\n",
       "      <th>0</th>\n",
       "      <td>13263</td>\n",
       "      <td>2023-04-27</td>\n",
       "      <td>yeppeuda</td>\n",
       "      <td>360</td>\n",
       "      <td>https://yeppeuda.mk/p/395/anti-cellulite-body-...</td>\n",
       "      <td>Anti cellulite body lotion 150ml</td>\n",
       "    </tr>\n",
       "    <tr>\n",
       "      <th>1</th>\n",
       "      <td>13057</td>\n",
       "      <td>2023-04-27</td>\n",
       "      <td>coslovemetics</td>\n",
       "      <td>1192</td>\n",
       "      <td>https://coslovemetics.mk/product/benton-cerami...</td>\n",
       "      <td>Benton Ceramide Cream 10.000PPM 80ml</td>\n",
       "    </tr>\n",
       "    <tr>\n",
       "      <th>2</th>\n",
       "      <td>13362</td>\n",
       "      <td>2023-04-27</td>\n",
       "      <td>yeppeuda</td>\n",
       "      <td>770</td>\n",
       "      <td>https://yeppeuda.mk/p/480/probiotic-moisturizi...</td>\n",
       "      <td>PROBIOTIC MOISTURIZING - SOOTHING SHOWER GEL 2...</td>\n",
       "    </tr>\n",
       "    <tr>\n",
       "      <th>3</th>\n",
       "      <td>13119</td>\n",
       "      <td>2023-04-27</td>\n",
       "      <td>coslovemetics</td>\n",
       "      <td>510</td>\n",
       "      <td>https://coslovemetics.mk/product/innisfree-blu...</td>\n",
       "      <td>innisfree Blueberry Rebalancing 5.5 Cleanser 1...</td>\n",
       "    </tr>\n",
       "    <tr>\n",
       "      <th>4</th>\n",
       "      <td>13346</td>\n",
       "      <td>2023-04-27</td>\n",
       "      <td>yeppeuda</td>\n",
       "      <td>690</td>\n",
       "      <td>https://yeppeuda.mk/p/376/mousse-shampoo-for-l...</td>\n",
       "      <td>Mousse shampoo for low porosity hair 200 ml</td>\n",
       "    </tr>\n",
       "    <tr>\n",
       "      <th>...</th>\n",
       "      <td>...</td>\n",
       "      <td>...</td>\n",
       "      <td>...</td>\n",
       "      <td>...</td>\n",
       "      <td>...</td>\n",
       "      <td>...</td>\n",
       "    </tr>\n",
       "    <tr>\n",
       "      <th>881</th>\n",
       "      <td>12721</td>\n",
       "      <td>2023-04-27</td>\n",
       "      <td>coslovemetics</td>\n",
       "      <td>748</td>\n",
       "      <td>https://coslovemetics.mk/product/missha-all-ar...</td>\n",
       "      <td>Missha All Around Safe Block Cotton Sun SPF50+...</td>\n",
       "    </tr>\n",
       "    <tr>\n",
       "      <th>882</th>\n",
       "      <td>13314</td>\n",
       "      <td>2023-04-27</td>\n",
       "      <td>yeppeuda</td>\n",
       "      <td>430</td>\n",
       "      <td>https://yeppeuda.mk/p/205/no-more-pores-2-sali...</td>\n",
       "      <td>No more pores 2% salicylic acid 30ml</td>\n",
       "    </tr>\n",
       "    <tr>\n",
       "      <th>883</th>\n",
       "      <td>13102</td>\n",
       "      <td>2023-04-27</td>\n",
       "      <td>coslovemetics</td>\n",
       "      <td>650</td>\n",
       "      <td>https://coslovemetics.mk/product/geekgorgeous-...</td>\n",
       "      <td>Geek&amp;Gorgeous B-Bomb 10% Niacinamide Serum</td>\n",
       "    </tr>\n",
       "    <tr>\n",
       "      <th>884</th>\n",
       "      <td>12612</td>\n",
       "      <td>2023-04-27</td>\n",
       "      <td>coslovemetics</td>\n",
       "      <td>952</td>\n",
       "      <td>https://coslovemetics.mk/product/pyunkang-yul-...</td>\n",
       "      <td>PYUNKANG YUL Pyunkang Miniature 4 type Set Ess...</td>\n",
       "    </tr>\n",
       "    <tr>\n",
       "      <th>885</th>\n",
       "      <td>13141</td>\n",
       "      <td>2023-04-27</td>\n",
       "      <td>coslovemetics</td>\n",
       "      <td>359</td>\n",
       "      <td>https://coslovemetics.mk/product/etude-house-d...</td>\n",
       "      <td>ETUDE HOUSE Dear Darling Water Gel Tint Ice Cr...</td>\n",
       "    </tr>\n",
       "  </tbody>\n",
       "</table>\n",
       "<p>886 rows × 6 columns</p>\n",
       "</div>"
      ],
      "text/plain": [
       "     productId        date         seller  price  \\\n",
       "0        13263  2023-04-27       yeppeuda    360   \n",
       "1        13057  2023-04-27  coslovemetics   1192   \n",
       "2        13362  2023-04-27       yeppeuda    770   \n",
       "3        13119  2023-04-27  coslovemetics    510   \n",
       "4        13346  2023-04-27       yeppeuda    690   \n",
       "..         ...         ...            ...    ...   \n",
       "881      12721  2023-04-27  coslovemetics    748   \n",
       "882      13314  2023-04-27       yeppeuda    430   \n",
       "883      13102  2023-04-27  coslovemetics    650   \n",
       "884      12612  2023-04-27  coslovemetics    952   \n",
       "885      13141  2023-04-27  coslovemetics    359   \n",
       "\n",
       "                                                  link  \\\n",
       "0    https://yeppeuda.mk/p/395/anti-cellulite-body-...   \n",
       "1    https://coslovemetics.mk/product/benton-cerami...   \n",
       "2    https://yeppeuda.mk/p/480/probiotic-moisturizi...   \n",
       "3    https://coslovemetics.mk/product/innisfree-blu...   \n",
       "4    https://yeppeuda.mk/p/376/mousse-shampoo-for-l...   \n",
       "..                                                 ...   \n",
       "881  https://coslovemetics.mk/product/missha-all-ar...   \n",
       "882  https://yeppeuda.mk/p/205/no-more-pores-2-sali...   \n",
       "883  https://coslovemetics.mk/product/geekgorgeous-...   \n",
       "884  https://coslovemetics.mk/product/pyunkang-yul-...   \n",
       "885  https://coslovemetics.mk/product/etude-house-d...   \n",
       "\n",
       "                                                  name  \n",
       "0                     Anti cellulite body lotion 150ml  \n",
       "1                 Benton Ceramide Cream 10.000PPM 80ml  \n",
       "2    PROBIOTIC MOISTURIZING - SOOTHING SHOWER GEL 2...  \n",
       "3    innisfree Blueberry Rebalancing 5.5 Cleanser 1...  \n",
       "4          Mousse shampoo for low porosity hair 200 ml  \n",
       "..                                                 ...  \n",
       "881  Missha All Around Safe Block Cotton Sun SPF50+...  \n",
       "882               No more pores 2% salicylic acid 30ml  \n",
       "883         Geek&Gorgeous B-Bomb 10% Niacinamide Serum  \n",
       "884  PYUNKANG YUL Pyunkang Miniature 4 type Set Ess...  \n",
       "885  ETUDE HOUSE Dear Darling Water Gel Tint Ice Cr...  \n",
       "\n",
       "[886 rows x 6 columns]"
      ]
     },
     "execution_count": 77,
     "metadata": {},
     "output_type": "execute_result"
    }
   ],
   "source": [
    "new_df"
   ]
  },
  {
   "cell_type": "code",
   "execution_count": 78,
   "metadata": {},
   "outputs": [],
   "source": [
    "new_df.to_csv(\"total_products_with_ids.csv\")"
   ]
  },
  {
   "cell_type": "code",
   "execution_count": 79,
   "metadata": {},
   "outputs": [
    {
     "data": {
      "text/plain": [
       "array([], dtype=object)"
      ]
     },
     "execution_count": 79,
     "metadata": {},
     "output_type": "execute_result"
    }
   ],
   "source": [
    "new_df[new_df.productId==11081].name.unique()"
   ]
  },
  {
   "cell_type": "code",
   "execution_count": null,
   "metadata": {},
   "outputs": [],
   "source": []
  }
 ],
 "metadata": {
  "kernelspec": {
   "display_name": "affordable-skin",
   "language": "python",
   "name": "python3"
  },
  "language_info": {
   "codemirror_mode": {
    "name": "ipython",
    "version": 3
   },
   "file_extension": ".py",
   "mimetype": "text/x-python",
   "name": "python",
   "nbconvert_exporter": "python",
   "pygments_lexer": "ipython3",
   "version": "3.9.16"
  },
  "orig_nbformat": 4
 },
 "nbformat": 4,
 "nbformat_minor": 2
}
