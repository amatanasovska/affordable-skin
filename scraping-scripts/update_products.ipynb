{
 "cells": [
  {
   "cell_type": "code",
   "execution_count": 116,
   "metadata": {},
   "outputs": [],
   "source": [
    "import pandas as pd\n",
    "from pandasql import sqldf\n",
    "import pyodbc\n",
    "import yaml"
   ]
  },
  {
   "attachments": {},
   "cell_type": "markdown",
   "metadata": {},
   "source": [
    "### Functions"
   ]
  },
  {
   "cell_type": "code",
   "execution_count": 117,
   "metadata": {},
   "outputs": [],
   "source": [
    "def levenshtein_distance(s, t):\n",
    "    m, n = len(s), len(t)\n",
    "    \n",
    "    distance = [[0 for j in range(n+1)] for i in range(m+1)]\n",
    "    \n",
    "    for i in range(1, m+1):\n",
    "        distance[i][0] = i\n",
    "    for j in range(1, n+1):\n",
    "        distance[0][j] = j\n",
    "    \n",
    "    for j in range(1, n+1):\n",
    "        for i in range(1, m+1):\n",
    "            if s[i-1] == t[j-1]:\n",
    "                cost = 0\n",
    "            else:\n",
    "                cost = 1\n",
    "            distance[i][j] = min(distance[i-1][j] + 1, distance[i][j-1] + 1, distance[i-1][j-1] + cost)\n",
    "    \n",
    "    return distance[m][n]\n"
   ]
  },
  {
   "cell_type": "code",
   "execution_count": 118,
   "metadata": {},
   "outputs": [],
   "source": [
    "def compare_products(from_db, from_csv, brand):\n",
    "    name1, name2 = from_db[2], from_csv[1]\n",
    "    ld = levenshtein_distance(\"\".join(name1.lower().split(brand)),\"\".join(name2.lower().split(brand)))\n",
    "    return from_db[0], ld if ld<max(len(name1),len(name2))//3 else None"
   ]
  },
  {
   "attachments": {},
   "cell_type": "markdown",
   "metadata": {},
   "source": [
    "### Db init"
   ]
  },
  {
   "cell_type": "code",
   "execution_count": 119,
   "metadata": {},
   "outputs": [],
   "source": [
    "cn = pyodbc.connect('Driver={ODBC Driver 17 for SQL Server};Server=(localdb)\\mssqllocaldb;Database=AffordableSkin;Trusted_Connection=yes')\n"
   ]
  },
  {
   "cell_type": "code",
   "execution_count": 120,
   "metadata": {},
   "outputs": [],
   "source": [
    "cr = cn.cursor()"
   ]
  },
  {
   "attachments": {},
   "cell_type": "markdown",
   "metadata": {},
   "source": [
    "### Get configuration settings"
   ]
  },
  {
   "cell_type": "code",
   "execution_count": 121,
   "metadata": {},
   "outputs": [
    {
     "name": "stdout",
     "output_type": "stream",
     "text": [
      "{'include_files': ['coslovemetics_all_products.csv', 'yeppeuda_all_products.csv']}\n"
     ]
    }
   ],
   "source": [
    "with open(r'config.yaml') as file:\n",
    "    conf = yaml.load(file, Loader=yaml.FullLoader)\n",
    "    print(conf)"
   ]
  },
  {
   "cell_type": "code",
   "execution_count": 122,
   "metadata": {},
   "outputs": [],
   "source": [
    "include_files = conf['include_files']"
   ]
  },
  {
   "attachments": {},
   "cell_type": "markdown",
   "metadata": {},
   "source": [
    "### Get existing products"
   ]
  },
  {
   "cell_type": "code",
   "execution_count": 123,
   "metadata": {},
   "outputs": [],
   "source": [
    "all_product_prices_with_ids = []"
   ]
  },
  {
   "cell_type": "code",
   "execution_count": 126,
   "metadata": {},
   "outputs": [],
   "source": [
    "for file in include_files:\n",
    "    df = pd.read_csv(file)\n",
    "    unique_brands = df.brand.unique()\n",
    "    \n",
    "    seller = file.split(\"_\")[0]\n",
    "    sql = f\"select max(Id) from Product\"\n",
    "    cr.execute(sql)\n",
    "    max_id = cr.fetchone()[0] \n",
    "    for brand in unique_brands:\n",
    "        \n",
    "        sql = \"select * from Product where BrandName = ?\"\n",
    "        values = (brand)\n",
    "        cr.execute(sql,values)\n",
    "        brand_products = cr.fetchall()\n",
    "\n",
    "        q = f\"\"\"select * from df where brand = '{brand}'\"\"\"\n",
    "        brand_df = sqldf(q, globals())\n",
    "        for index,row in brand_df.iterrows():\n",
    "            brand_row = row[4]\n",
    "            product_id = None\n",
    "            min_score = 1000\n",
    "            for product in brand_products:  \n",
    "                id, score = compare_products(product,row.tolist(),brand)\n",
    "                if score != None and score<min_score:\n",
    "                    product_id = id\n",
    "                    min_score = score\n",
    "                    \n",
    "            product_values = [row[0], row[1], 0, row[4]]\n",
    "            product_prices_values = [row[3], seller, row[2],row[5],row[1]]\n",
    "            date = row[3]\n",
    "            if product_id is None:\n",
    "                \n",
    "                sql = \"insert into Product values (?, ?, ?, ?)\"\n",
    "                \n",
    "                values = tuple(product_values)\n",
    "                cr.execute(sql,values)\n",
    "                cn.commit()\n",
    "                \n",
    "                all_product_prices_with_ids.append([max_id+1] + product_prices_values)\n",
    "                max_id+=1\n",
    "            else:\n",
    "                sql = \"select * from ProductPrice where Date = ? and ProductId = ?\"\n",
    "                \n",
    "                values = (date, product_id)\n",
    "                cr.execute(sql,values)\n",
    "                added_products = cr.fetchone()\n",
    "                if added_products is None:\n",
    "                    all_product_prices_with_ids.append([product_id] + product_prices_values)\n",
    "                else:\n",
    "                    sql = \"insert into Product values (?, ?, ?, ?)\"\n",
    "                \n",
    "                    values = tuple(product_values)\n",
    "                    cr.execute(sql,values)\n",
    "                    cn.commit()\n",
    "                    \n",
    "                    all_product_prices_with_ids.append([max_id+1] + product_prices_values)\n",
    "                    max_id+=1"
   ]
  },
  {
   "cell_type": "code",
   "execution_count": 127,
   "metadata": {},
   "outputs": [],
   "source": [
    "all_product_prices_with_ids =list(set(map(tuple,all_product_prices_with_ids)))"
   ]
  },
  {
   "cell_type": "code",
   "execution_count": 128,
   "metadata": {},
   "outputs": [],
   "source": [
    "for row in all_product_prices_with_ids:\n",
    "    sql = \"insert into ProductPrice values (?, ?, ?, ?, ?,?)\"\n",
    "    values = tuple(row)\n",
    "    cr.execute(sql,values)\n",
    "    cn.commit()"
   ]
  },
  {
   "cell_type": "code",
   "execution_count": 129,
   "metadata": {},
   "outputs": [],
   "source": [
    "cn.commit()\n",
    "cr.close()\n",
    "cn.close()"
   ]
  },
  {
   "cell_type": "code",
   "execution_count": 130,
   "metadata": {},
   "outputs": [],
   "source": [
    "new_df = pd.DataFrame(all_product_prices_with_ids)"
   ]
  },
  {
   "cell_type": "code",
   "execution_count": 131,
   "metadata": {},
   "outputs": [],
   "source": [
    "new_df.columns=['productId', 'date','seller','price','link','name']"
   ]
  },
  {
   "cell_type": "code",
   "execution_count": 132,
   "metadata": {},
   "outputs": [
    {
     "data": {
      "text/html": [
       "<div>\n",
       "<style scoped>\n",
       "    .dataframe tbody tr th:only-of-type {\n",
       "        vertical-align: middle;\n",
       "    }\n",
       "\n",
       "    .dataframe tbody tr th {\n",
       "        vertical-align: top;\n",
       "    }\n",
       "\n",
       "    .dataframe thead th {\n",
       "        text-align: right;\n",
       "    }\n",
       "</style>\n",
       "<table border=\"1\" class=\"dataframe\">\n",
       "  <thead>\n",
       "    <tr style=\"text-align: right;\">\n",
       "      <th></th>\n",
       "      <th>productId</th>\n",
       "      <th>date</th>\n",
       "      <th>seller</th>\n",
       "      <th>price</th>\n",
       "      <th>link</th>\n",
       "      <th>name</th>\n",
       "    </tr>\n",
       "  </thead>\n",
       "  <tbody>\n",
       "    <tr>\n",
       "      <th>0</th>\n",
       "      <td>15190</td>\n",
       "      <td>2023-04-27</td>\n",
       "      <td>coslovemetics</td>\n",
       "      <td>1136</td>\n",
       "      <td>https://coslovemetics.mk/product/cosrx-bha-bla...</td>\n",
       "      <td>COSRX BHA Blackhead Power Liquid 100ml</td>\n",
       "    </tr>\n",
       "    <tr>\n",
       "      <th>1</th>\n",
       "      <td>15312</td>\n",
       "      <td>2023-04-27</td>\n",
       "      <td>coslovemetics</td>\n",
       "      <td>560</td>\n",
       "      <td>https://coslovemetics.mk/product/purito-all-ca...</td>\n",
       "      <td>PURITO All Care Recovery Cica-Aid</td>\n",
       "    </tr>\n",
       "    <tr>\n",
       "      <th>2</th>\n",
       "      <td>15627</td>\n",
       "      <td>2023-04-27</td>\n",
       "      <td>coslovemetics</td>\n",
       "      <td>1206</td>\n",
       "      <td>https://coslovemetics.mk/product/iunik-beta-gl...</td>\n",
       "      <td>iUNIK Beta Glucan Power Moisture Serum 50ml</td>\n",
       "    </tr>\n",
       "    <tr>\n",
       "      <th>3</th>\n",
       "      <td>15161</td>\n",
       "      <td>2023-04-27</td>\n",
       "      <td>coslovemetics</td>\n",
       "      <td>1832</td>\n",
       "      <td>https://coslovemetics.mk/product/pyunkang-yul-...</td>\n",
       "      <td>Pyunkang Yul Skin Set Low PH Pore Deep Cleansi...</td>\n",
       "    </tr>\n",
       "    <tr>\n",
       "      <th>4</th>\n",
       "      <td>15603</td>\n",
       "      <td>2023-04-27</td>\n",
       "      <td>coslovemetics</td>\n",
       "      <td>104</td>\n",
       "      <td>https://coslovemetics.mk/product/benton-aloe-s...</td>\n",
       "      <td>BENTON Aloe Soothing Mask Pack 1 парче</td>\n",
       "    </tr>\n",
       "    <tr>\n",
       "      <th>...</th>\n",
       "      <td>...</td>\n",
       "      <td>...</td>\n",
       "      <td>...</td>\n",
       "      <td>...</td>\n",
       "      <td>...</td>\n",
       "      <td>...</td>\n",
       "    </tr>\n",
       "    <tr>\n",
       "      <th>881</th>\n",
       "      <td>15448</td>\n",
       "      <td>2023-04-27</td>\n",
       "      <td>coslovemetics</td>\n",
       "      <td>656</td>\n",
       "      <td>https://coslovemetics.mk/product/unleashia-min...</td>\n",
       "      <td>Unleashia MINEST DOUBLE LASH UP MASCARA 01 BLACK</td>\n",
       "    </tr>\n",
       "    <tr>\n",
       "      <th>882</th>\n",
       "      <td>15835</td>\n",
       "      <td>2023-04-27</td>\n",
       "      <td>yeppeuda</td>\n",
       "      <td>980</td>\n",
       "      <td>https://yeppeuda.mk/p/275/smooth-cozy-souffle-...</td>\n",
       "      <td>Smooth Cozy Soufflé moisturizing &amp; soothing 50мл</td>\n",
       "    </tr>\n",
       "    <tr>\n",
       "      <th>883</th>\n",
       "      <td>15885</td>\n",
       "      <td>2023-04-27</td>\n",
       "      <td>yeppeuda</td>\n",
       "      <td>570</td>\n",
       "      <td>https://yeppeuda.mk/p/385/hot-oil-treatment-fo...</td>\n",
       "      <td>Hot oil treatment for high porosity hair 100ml</td>\n",
       "    </tr>\n",
       "    <tr>\n",
       "      <th>884</th>\n",
       "      <td>15150</td>\n",
       "      <td>2023-04-27</td>\n",
       "      <td>coslovemetics</td>\n",
       "      <td>532</td>\n",
       "      <td>https://coslovemetics.mk/product/pyunkang-yul-...</td>\n",
       "      <td>Pyunkang Yul Mist Toner 100ml</td>\n",
       "    </tr>\n",
       "    <tr>\n",
       "      <th>885</th>\n",
       "      <td>15884</td>\n",
       "      <td>2023-04-27</td>\n",
       "      <td>yeppeuda</td>\n",
       "      <td>740</td>\n",
       "      <td>https://yeppeuda.mk/p/386/curl-activator-cream...</td>\n",
       "      <td>Curl activator cream 150ml</td>\n",
       "    </tr>\n",
       "  </tbody>\n",
       "</table>\n",
       "<p>886 rows × 6 columns</p>\n",
       "</div>"
      ],
      "text/plain": [
       "     productId        date         seller  price  \\\n",
       "0        15190  2023-04-27  coslovemetics   1136   \n",
       "1        15312  2023-04-27  coslovemetics    560   \n",
       "2        15627  2023-04-27  coslovemetics   1206   \n",
       "3        15161  2023-04-27  coslovemetics   1832   \n",
       "4        15603  2023-04-27  coslovemetics    104   \n",
       "..         ...         ...            ...    ...   \n",
       "881      15448  2023-04-27  coslovemetics    656   \n",
       "882      15835  2023-04-27       yeppeuda    980   \n",
       "883      15885  2023-04-27       yeppeuda    570   \n",
       "884      15150  2023-04-27  coslovemetics    532   \n",
       "885      15884  2023-04-27       yeppeuda    740   \n",
       "\n",
       "                                                  link  \\\n",
       "0    https://coslovemetics.mk/product/cosrx-bha-bla...   \n",
       "1    https://coslovemetics.mk/product/purito-all-ca...   \n",
       "2    https://coslovemetics.mk/product/iunik-beta-gl...   \n",
       "3    https://coslovemetics.mk/product/pyunkang-yul-...   \n",
       "4    https://coslovemetics.mk/product/benton-aloe-s...   \n",
       "..                                                 ...   \n",
       "881  https://coslovemetics.mk/product/unleashia-min...   \n",
       "882  https://yeppeuda.mk/p/275/smooth-cozy-souffle-...   \n",
       "883  https://yeppeuda.mk/p/385/hot-oil-treatment-fo...   \n",
       "884  https://coslovemetics.mk/product/pyunkang-yul-...   \n",
       "885  https://yeppeuda.mk/p/386/curl-activator-cream...   \n",
       "\n",
       "                                                  name  \n",
       "0               COSRX BHA Blackhead Power Liquid 100ml  \n",
       "1                    PURITO All Care Recovery Cica-Aid  \n",
       "2          iUNIK Beta Glucan Power Moisture Serum 50ml  \n",
       "3    Pyunkang Yul Skin Set Low PH Pore Deep Cleansi...  \n",
       "4               BENTON Aloe Soothing Mask Pack 1 парче  \n",
       "..                                                 ...  \n",
       "881   Unleashia MINEST DOUBLE LASH UP MASCARA 01 BLACK  \n",
       "882   Smooth Cozy Soufflé moisturizing & soothing 50мл  \n",
       "883     Hot oil treatment for high porosity hair 100ml  \n",
       "884                      Pyunkang Yul Mist Toner 100ml  \n",
       "885                         Curl activator cream 150ml  \n",
       "\n",
       "[886 rows x 6 columns]"
      ]
     },
     "execution_count": 132,
     "metadata": {},
     "output_type": "execute_result"
    }
   ],
   "source": [
    "new_df"
   ]
  },
  {
   "cell_type": "code",
   "execution_count": 133,
   "metadata": {},
   "outputs": [],
   "source": [
    "new_df.to_csv(\"total_products_with_ids.csv\")"
   ]
  },
  {
   "cell_type": "code",
   "execution_count": null,
   "metadata": {},
   "outputs": [],
   "source": []
  }
 ],
 "metadata": {
  "kernelspec": {
   "display_name": "affordable-skin",
   "language": "python",
   "name": "python3"
  },
  "language_info": {
   "codemirror_mode": {
    "name": "ipython",
    "version": 3
   },
   "file_extension": ".py",
   "mimetype": "text/x-python",
   "name": "python",
   "nbconvert_exporter": "python",
   "pygments_lexer": "ipython3",
   "version": "3.9.16"
  },
  "orig_nbformat": 4
 },
 "nbformat": 4,
 "nbformat_minor": 2
}
