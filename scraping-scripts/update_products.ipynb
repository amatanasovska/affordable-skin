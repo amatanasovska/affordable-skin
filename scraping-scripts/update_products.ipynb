{
 "cells": [
  {
   "cell_type": "code",
   "execution_count": 244,
   "metadata": {},
   "outputs": [],
   "source": [
    "import pandas as pd\n",
    "from pandasql import sqldf\n",
    "import pyodbc\n",
    "import yaml"
   ]
  },
  {
   "attachments": {},
   "cell_type": "markdown",
   "metadata": {},
   "source": [
    "### Functions"
   ]
  },
  {
   "cell_type": "code",
   "execution_count": 245,
   "metadata": {},
   "outputs": [],
   "source": [
    "def levenshtein_distance(s, t):\n",
    "    m, n = len(s), len(t)\n",
    "    \n",
    "    distance = [[0 for j in range(n+1)] for i in range(m+1)]\n",
    "    \n",
    "    for i in range(1, m+1):\n",
    "        distance[i][0] = i\n",
    "    for j in range(1, n+1):\n",
    "        distance[0][j] = j\n",
    "    \n",
    "    for j in range(1, n+1):\n",
    "        for i in range(1, m+1):\n",
    "            if s[i-1] == t[j-1]:\n",
    "                cost = 0\n",
    "            else:\n",
    "                cost = 1\n",
    "            distance[i][j] = min(distance[i-1][j] + 1, distance[i][j-1] + 1, distance[i-1][j-1] + cost)\n",
    "    \n",
    "    return distance[m][n]\n"
   ]
  },
  {
   "cell_type": "code",
   "execution_count": 246,
   "metadata": {},
   "outputs": [],
   "source": [
    "def compare_products(from_db, from_csv, brand):\n",
    "    name1, name2 = from_db[2], from_csv[1]\n",
    "    ld = levenshtein_distance(\"\".join(name1.lower().split(brand)),\"\".join(name2.lower().split(brand)))\n",
    "    return from_db[0], ld if ld<max(len(name1),len(name2))//3 else None"
   ]
  },
  {
   "attachments": {},
   "cell_type": "markdown",
   "metadata": {},
   "source": [
    "### Db init"
   ]
  },
  {
   "cell_type": "code",
   "execution_count": 247,
   "metadata": {},
   "outputs": [],
   "source": [
    "cn = pyodbc.connect('Driver={ODBC Driver 17 for SQL Server};Server=(localdb)\\mssqllocaldb;Database=AffordableSkin;Trusted_Connection=yes')\n"
   ]
  },
  {
   "cell_type": "code",
   "execution_count": 248,
   "metadata": {},
   "outputs": [],
   "source": [
    "cr = cn.cursor()"
   ]
  },
  {
   "attachments": {},
   "cell_type": "markdown",
   "metadata": {},
   "source": [
    "### Get configuration settings"
   ]
  },
  {
   "cell_type": "code",
   "execution_count": 249,
   "metadata": {},
   "outputs": [
    {
     "name": "stdout",
     "output_type": "stream",
     "text": [
      "{'include_files': ['coslovemetics_all_products.csv', 'yeppeuda_all_products.csv', 'olpeo_all_products.csv']}\n"
     ]
    }
   ],
   "source": [
    "with open(r'config.yaml') as file:\n",
    "    conf = yaml.load(file, Loader=yaml.FullLoader)\n",
    "    print(conf)"
   ]
  },
  {
   "cell_type": "code",
   "execution_count": 250,
   "metadata": {},
   "outputs": [],
   "source": [
    "include_files = conf['include_files']"
   ]
  },
  {
   "attachments": {},
   "cell_type": "markdown",
   "metadata": {},
   "source": [
    "### Get existing products"
   ]
  },
  {
   "cell_type": "code",
   "execution_count": 251,
   "metadata": {},
   "outputs": [],
   "source": [
    "all_product_prices_with_ids = []"
   ]
  },
  {
   "cell_type": "code",
   "execution_count": 253,
   "metadata": {},
   "outputs": [],
   "source": [
    "for file in include_files:\n",
    "    df = pd.read_csv(file)\n",
    "    unique_brands = df.brand.unique()\n",
    "    \n",
    "    seller = file.split(\"_\")[0]\n",
    "    sql = f\"select max(Id) from Product\"\n",
    "    cr.execute(sql)\n",
    "    max_id = cr.fetchone()[0] \n",
    "    for brand in unique_brands:\n",
    "        \n",
    "        sql = \"select * from Product where BrandName = ?\"\n",
    "        values = (brand)\n",
    "        cr.execute(sql,values)\n",
    "        brand_products = cr.fetchall()\n",
    "\n",
    "        q = f\"\"\"select * from df where brand = '{brand}'\"\"\"\n",
    "        brand_df = sqldf(q, globals())\n",
    "        for index,row in brand_df.iterrows():\n",
    "            brand_row = row[4]\n",
    "            product_id = None\n",
    "            min_score = 1000\n",
    "            for product in brand_products:  \n",
    "                id, score = compare_products(product,row.tolist(),brand)\n",
    "                if score != None and score<min_score:\n",
    "                    product_id = id\n",
    "                    min_score = score\n",
    "                    \n",
    "            product_values = [row[0], row[1], 0, row[4]]\n",
    "            product_prices_values = [row[3], seller, row[2],row[5],row[1]]\n",
    "            date = row[3]\n",
    "            if product_id is None:\n",
    "                \n",
    "                sql = \"insert into Product values (?, ?, ?, ?)\"\n",
    "                \n",
    "                values = tuple(product_values)\n",
    "                cr.execute(sql,values)\n",
    "                cn.commit()\n",
    "                \n",
    "                row_add = [max_id+1] + product_prices_values\n",
    "                all_product_prices_with_ids.append(row_add)\n",
    "                sql = \"insert into ProductPrice values (?, ?, ?, ?, ?,?)\"\n",
    "                values = tuple(row_add)\n",
    "                cr.execute(sql,values)\n",
    "                cn.commit()\n",
    "                max_id+=1\n",
    "            else:\n",
    "                sql = \"select * from ProductPrice where Date = ? and ProductId = ? and SellerName = ?\"\n",
    "                \n",
    "                values = (date, product_id, seller)\n",
    "                cr.execute(sql,values)\n",
    "                added_products = cr.fetchone()\n",
    "                row_add = None\n",
    "                if added_products is None:\n",
    "                    row_add =  [product_id] + product_prices_values\n",
    "                    \n",
    "                else:\n",
    "                    sql = \"insert into Product values (?, ?, ?, ?)\"\n",
    "                    values = tuple(product_values)\n",
    "                    cr.execute(sql,values)\n",
    "                    cn.commit()\n",
    "                    \n",
    "                    row_add = [max_id+1] + product_prices_values\n",
    "                    max_id+=1\n",
    "                \n",
    "                all_product_prices_with_ids.append(row_add)\n",
    "                sql = \"insert into ProductPrice values (?, ?, ?, ?, ?,?)\"\n",
    "                values = tuple(row_add)\n",
    "                cr.execute(sql,values)\n",
    "                cn.commit()"
   ]
  },
  {
   "cell_type": "code",
   "execution_count": 254,
   "metadata": {},
   "outputs": [],
   "source": [
    "# all_product_prices_with_ids =list(set(map(tuple,all_product_prices_with_ids)))"
   ]
  },
  {
   "cell_type": "code",
   "execution_count": 255,
   "metadata": {},
   "outputs": [],
   "source": [
    "# for row in all_product_prices_with_ids:\n",
    "#     sql = \"insert into ProductPrice values (?, ?, ?, ?, ?,?)\"\n",
    "#     values = tuple(row)\n",
    "#     cr.execute(sql,values)\n",
    "#     cn.commit()"
   ]
  },
  {
   "cell_type": "code",
   "execution_count": 256,
   "metadata": {},
   "outputs": [],
   "source": [
    "cn.commit()\n",
    "cr.close()\n",
    "cn.close()"
   ]
  },
  {
   "cell_type": "code",
   "execution_count": 257,
   "metadata": {},
   "outputs": [],
   "source": [
    "new_df = pd.DataFrame(all_product_prices_with_ids)"
   ]
  },
  {
   "cell_type": "code",
   "execution_count": 258,
   "metadata": {},
   "outputs": [],
   "source": [
    "new_df.columns=['productId', 'date','seller','price','link','name']"
   ]
  },
  {
   "cell_type": "code",
   "execution_count": 259,
   "metadata": {},
   "outputs": [
    {
     "data": {
      "text/html": [
       "<div>\n",
       "<style scoped>\n",
       "    .dataframe tbody tr th:only-of-type {\n",
       "        vertical-align: middle;\n",
       "    }\n",
       "\n",
       "    .dataframe tbody tr th {\n",
       "        vertical-align: top;\n",
       "    }\n",
       "\n",
       "    .dataframe thead th {\n",
       "        text-align: right;\n",
       "    }\n",
       "</style>\n",
       "<table border=\"1\" class=\"dataframe\">\n",
       "  <thead>\n",
       "    <tr style=\"text-align: right;\">\n",
       "      <th></th>\n",
       "      <th>productId</th>\n",
       "      <th>date</th>\n",
       "      <th>seller</th>\n",
       "      <th>price</th>\n",
       "      <th>link</th>\n",
       "      <th>name</th>\n",
       "    </tr>\n",
       "  </thead>\n",
       "  <tbody>\n",
       "    <tr>\n",
       "      <th>0</th>\n",
       "      <td>22194</td>\n",
       "      <td>2023-04-27</td>\n",
       "      <td>coslovemetics</td>\n",
       "      <td>360</td>\n",
       "      <td>https://coslovemetics.mk/product/cp-1-keratin-...</td>\n",
       "      <td>CP-1 Keratin Concentrate Ampoule 10ml</td>\n",
       "    </tr>\n",
       "    <tr>\n",
       "      <th>1</th>\n",
       "      <td>22195</td>\n",
       "      <td>2023-04-27</td>\n",
       "      <td>coslovemetics</td>\n",
       "      <td>790</td>\n",
       "      <td>https://coslovemetics.mk/product/cp-1-premium-...</td>\n",
       "      <td>CP-1 Premium Hair Treatment 250ml</td>\n",
       "    </tr>\n",
       "    <tr>\n",
       "      <th>2</th>\n",
       "      <td>22196</td>\n",
       "      <td>2023-04-27</td>\n",
       "      <td>coslovemetics</td>\n",
       "      <td>970</td>\n",
       "      <td>https://coslovemetics.mk/product/cp-1-anti-hai...</td>\n",
       "      <td>CP-1 Anti Hair Loss Scalp Infusion Shampoo 250ml</td>\n",
       "    </tr>\n",
       "    <tr>\n",
       "      <th>3</th>\n",
       "      <td>22197</td>\n",
       "      <td>2023-04-27</td>\n",
       "      <td>coslovemetics</td>\n",
       "      <td>270</td>\n",
       "      <td>https://coslovemetics.mk/product/cp-1-premium-...</td>\n",
       "      <td>CP-1 Premium Silk Ampoule 20ml</td>\n",
       "    </tr>\n",
       "    <tr>\n",
       "      <th>4</th>\n",
       "      <td>22198</td>\n",
       "      <td>2023-04-27</td>\n",
       "      <td>coslovemetics</td>\n",
       "      <td>690</td>\n",
       "      <td>https://coslovemetics.mk/product/cp-1-premium-...</td>\n",
       "      <td>CP-1 Premium Silk Ampoule 150ml</td>\n",
       "    </tr>\n",
       "    <tr>\n",
       "      <th>...</th>\n",
       "      <td>...</td>\n",
       "      <td>...</td>\n",
       "      <td>...</td>\n",
       "      <td>...</td>\n",
       "      <td>...</td>\n",
       "      <td>...</td>\n",
       "    </tr>\n",
       "    <tr>\n",
       "      <th>1322</th>\n",
       "      <td>23345</td>\n",
       "      <td>2023-04-27</td>\n",
       "      <td>olpeo</td>\n",
       "      <td>2040</td>\n",
       "      <td>https://olpeo.mk/product/yeouth-retinol-moistu...</td>\n",
       "      <td>Yeouth Retinol Moisturizer 60ml</td>\n",
       "    </tr>\n",
       "    <tr>\n",
       "      <th>1323</th>\n",
       "      <td>23346</td>\n",
       "      <td>2023-04-27</td>\n",
       "      <td>olpeo</td>\n",
       "      <td>1692</td>\n",
       "      <td>https://olpeo.mk/product/yeouth-retinol-serum-...</td>\n",
       "      <td>Yeouth Retinol Serum 30ml</td>\n",
       "    </tr>\n",
       "    <tr>\n",
       "      <th>1324</th>\n",
       "      <td>23347</td>\n",
       "      <td>2023-04-27</td>\n",
       "      <td>olpeo</td>\n",
       "      <td>780</td>\n",
       "      <td>https://olpeo.mk/product/yeouth-retinol-serum-...</td>\n",
       "      <td>Yeouth Retinol Serum 5ml</td>\n",
       "    </tr>\n",
       "    <tr>\n",
       "      <th>1325</th>\n",
       "      <td>23348</td>\n",
       "      <td>2023-04-27</td>\n",
       "      <td>olpeo</td>\n",
       "      <td>1387</td>\n",
       "      <td>https://olpeo.mk/product/yeouth-vitamin-c-faci...</td>\n",
       "      <td>Yeouth Vitamin C Facial Cleanser 89ml</td>\n",
       "    </tr>\n",
       "    <tr>\n",
       "      <th>1326</th>\n",
       "      <td>23349</td>\n",
       "      <td>2023-04-27</td>\n",
       "      <td>olpeo</td>\n",
       "      <td>1368</td>\n",
       "      <td>https://olpeo.mk/product/yeouth-vitamin-c-e-se...</td>\n",
       "      <td>Yeouth Vitamin C&amp;E Serum 30ml</td>\n",
       "    </tr>\n",
       "  </tbody>\n",
       "</table>\n",
       "<p>1327 rows × 6 columns</p>\n",
       "</div>"
      ],
      "text/plain": [
       "      productId        date         seller  price  \\\n",
       "0         22194  2023-04-27  coslovemetics    360   \n",
       "1         22195  2023-04-27  coslovemetics    790   \n",
       "2         22196  2023-04-27  coslovemetics    970   \n",
       "3         22197  2023-04-27  coslovemetics    270   \n",
       "4         22198  2023-04-27  coslovemetics    690   \n",
       "...         ...         ...            ...    ...   \n",
       "1322      23345  2023-04-27          olpeo   2040   \n",
       "1323      23346  2023-04-27          olpeo   1692   \n",
       "1324      23347  2023-04-27          olpeo    780   \n",
       "1325      23348  2023-04-27          olpeo   1387   \n",
       "1326      23349  2023-04-27          olpeo   1368   \n",
       "\n",
       "                                                   link  \\\n",
       "0     https://coslovemetics.mk/product/cp-1-keratin-...   \n",
       "1     https://coslovemetics.mk/product/cp-1-premium-...   \n",
       "2     https://coslovemetics.mk/product/cp-1-anti-hai...   \n",
       "3     https://coslovemetics.mk/product/cp-1-premium-...   \n",
       "4     https://coslovemetics.mk/product/cp-1-premium-...   \n",
       "...                                                 ...   \n",
       "1322  https://olpeo.mk/product/yeouth-retinol-moistu...   \n",
       "1323  https://olpeo.mk/product/yeouth-retinol-serum-...   \n",
       "1324  https://olpeo.mk/product/yeouth-retinol-serum-...   \n",
       "1325  https://olpeo.mk/product/yeouth-vitamin-c-faci...   \n",
       "1326  https://olpeo.mk/product/yeouth-vitamin-c-e-se...   \n",
       "\n",
       "                                                  name  \n",
       "0                CP-1 Keratin Concentrate Ampoule 10ml  \n",
       "1                    CP-1 Premium Hair Treatment 250ml  \n",
       "2     CP-1 Anti Hair Loss Scalp Infusion Shampoo 250ml  \n",
       "3                       CP-1 Premium Silk Ampoule 20ml  \n",
       "4                      CP-1 Premium Silk Ampoule 150ml  \n",
       "...                                                ...  \n",
       "1322                   Yeouth Retinol Moisturizer 60ml  \n",
       "1323                         Yeouth Retinol Serum 30ml  \n",
       "1324                          Yeouth Retinol Serum 5ml  \n",
       "1325             Yeouth Vitamin C Facial Cleanser 89ml  \n",
       "1326                     Yeouth Vitamin C&E Serum 30ml  \n",
       "\n",
       "[1327 rows x 6 columns]"
      ]
     },
     "execution_count": 259,
     "metadata": {},
     "output_type": "execute_result"
    }
   ],
   "source": [
    "new_df"
   ]
  },
  {
   "cell_type": "code",
   "execution_count": 260,
   "metadata": {},
   "outputs": [],
   "source": [
    "new_df.to_csv(\"total_products_with_ids.csv\")"
   ]
  },
  {
   "cell_type": "code",
   "execution_count": null,
   "metadata": {},
   "outputs": [],
   "source": []
  }
 ],
 "metadata": {
  "kernelspec": {
   "display_name": "affordable-skin",
   "language": "python",
   "name": "python3"
  },
  "language_info": {
   "codemirror_mode": {
    "name": "ipython",
    "version": 3
   },
   "file_extension": ".py",
   "mimetype": "text/x-python",
   "name": "python",
   "nbconvert_exporter": "python",
   "pygments_lexer": "ipython3",
   "version": "3.9.16"
  },
  "orig_nbformat": 4
 },
 "nbformat": 4,
 "nbformat_minor": 2
}
