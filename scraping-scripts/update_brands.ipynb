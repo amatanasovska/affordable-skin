{
 "cells": [
  {
   "cell_type": "code",
   "execution_count": 1,
   "metadata": {},
   "outputs": [
    {
     "name": "stdout",
     "output_type": "stream",
     "text": [
      "Requirement already satisfied: pyyaml in c:\\users\\anamarija atanasoska\\anaconda3\\envs\\affordable-skin\\lib\\site-packages (6.0)\n"
     ]
    }
   ],
   "source": [
    "# ! pip install pyyaml\n"
   ]
  },
  {
   "cell_type": "code",
   "execution_count": 1,
   "metadata": {},
   "outputs": [],
   "source": [
    "import pandas as pd\n",
    "import yaml\n",
    "import pyodbc "
   ]
  },
  {
   "attachments": {},
   "cell_type": "markdown",
   "metadata": {},
   "source": [
    "## Functions"
   ]
  },
  {
   "cell_type": "code",
   "execution_count": 2,
   "metadata": {},
   "outputs": [],
   "source": [
    "def extract_brands(file):\n",
    "    df = pd.read_csv(file)\n",
    "    unique_brands = df.brand.unique()\n",
    "    return unique_brands"
   ]
  },
  {
   "attachments": {},
   "cell_type": "markdown",
   "metadata": {},
   "source": [
    "## Db init"
   ]
  },
  {
   "cell_type": "code",
   "execution_count": 3,
   "metadata": {},
   "outputs": [],
   "source": [
    "cn = pyodbc.connect('Driver={ODBC Driver 17 for SQL Server};Server=(localdb)\\mssqllocaldb;Database=AffordableSkin;Trusted_Connection=yes')\n"
   ]
  },
  {
   "cell_type": "code",
   "execution_count": 4,
   "metadata": {},
   "outputs": [],
   "source": [
    "cr = cn.cursor()"
   ]
  },
  {
   "attachments": {},
   "cell_type": "markdown",
   "metadata": {},
   "source": [
    "## Get configuration strings"
   ]
  },
  {
   "cell_type": "code",
   "execution_count": 5,
   "metadata": {},
   "outputs": [
    {
     "name": "stdout",
     "output_type": "stream",
     "text": [
      "{'include_files': ['coslovemetics_all_products.csv', 'yeppeuda_all_products.csv']}\n"
     ]
    }
   ],
   "source": [
    "with open(r'config.yaml') as file:\n",
    "    conf = yaml.load(file, Loader=yaml.FullLoader)\n",
    "    print(conf)"
   ]
  },
  {
   "cell_type": "code",
   "execution_count": 6,
   "metadata": {},
   "outputs": [],
   "source": [
    "include_files = conf['include_files']"
   ]
  },
  {
   "attachments": {},
   "cell_type": "markdown",
   "metadata": {},
   "source": [
    "## Get existing brands"
   ]
  },
  {
   "cell_type": "code",
   "execution_count": 7,
   "metadata": {},
   "outputs": [],
   "source": [
    "sql = \"select * from Brand\"\n",
    "cr.execute(sql)\n",
    "brands = cr.fetchall()"
   ]
  },
  {
   "cell_type": "code",
   "execution_count": 8,
   "metadata": {},
   "outputs": [
    {
     "data": {
      "text/plain": [
       "[]"
      ]
     },
     "execution_count": 8,
     "metadata": {},
     "output_type": "execute_result"
    }
   ],
   "source": [
    "brands"
   ]
  },
  {
   "cell_type": "code",
   "execution_count": 9,
   "metadata": {},
   "outputs": [],
   "source": [
    "new_brands = []"
   ]
  },
  {
   "cell_type": "code",
   "execution_count": 10,
   "metadata": {},
   "outputs": [],
   "source": [
    "for file in include_files:\n",
    "    brands_in_file = extract_brands(file)\n",
    "    for b in brands_in_file: \n",
    "        if b not in brands: \n",
    "            new_brands.append(b.lower()) "
   ]
  },
  {
   "cell_type": "code",
   "execution_count": 11,
   "metadata": {},
   "outputs": [],
   "source": [
    "new_brands = list(set(new_brands))"
   ]
  },
  {
   "cell_type": "code",
   "execution_count": 12,
   "metadata": {},
   "outputs": [
    {
     "data": {
      "text/plain": [
       "['tiam',\n",
       " 'eyenlip',\n",
       " 'cosrx',\n",
       " 'mom & who',\n",
       " 'trust my sister',\n",
       " 'some by mi',\n",
       " 'isntree',\n",
       " 'skinrx lab',\n",
       " 'geek&gorgeous',\n",
       " 'dr.jart+',\n",
       " 'suntique',\n",
       " 'apieu',\n",
       " 'skin food',\n",
       " 'iunik',\n",
       " 'nacomi baby',\n",
       " 'farm stay',\n",
       " 'surmedic',\n",
       " 'fluff',\n",
       " 'benton',\n",
       " 'dr.ceuracle',\n",
       " 'unleashia',\n",
       " 'attitude living',\n",
       " 'dr. jart',\n",
       " 'heimish',\n",
       " 'rom&nd',\n",
       " 'nature republic',\n",
       " 'mary n may',\n",
       " 'enough',\n",
       " 'cp-1',\n",
       " 'innisfree',\n",
       " 'ahc',\n",
       " 'pyunkang yul',\n",
       " 'laneige',\n",
       " 'beauty of joseon',\n",
       " 'etude',\n",
       " 'purito',\n",
       " 'tocobo',\n",
       " 'face shop',\n",
       " 'axis-y',\n",
       " 'nacomi',\n",
       " 'missha',\n",
       " 'one thing',\n",
       " 'tonymoly',\n",
       " 'haruharu',\n",
       " 'double dare',\n",
       " 'frudia',\n",
       " 'banila co',\n",
       " 'altruist',\n",
       " 'floslek',\n",
       " 'neogen']"
      ]
     },
     "execution_count": 12,
     "metadata": {},
     "output_type": "execute_result"
    }
   ],
   "source": [
    "new_brands"
   ]
  },
  {
   "cell_type": "code",
   "execution_count": 13,
   "metadata": {},
   "outputs": [],
   "source": [
    "for brand in new_brands:\n",
    "    sql = \"insert into Brand values (?)\"\n",
    "    values = (brand)\n",
    "    cr.execute(sql,values)\n",
    "    cn.commit()"
   ]
  },
  {
   "cell_type": "code",
   "execution_count": 14,
   "metadata": {},
   "outputs": [],
   "source": [
    "cr.close()\n",
    "cn.close()\n"
   ]
  }
 ],
 "metadata": {
  "kernelspec": {
   "display_name": "affordable-skin",
   "language": "python",
   "name": "python3"
  },
  "language_info": {
   "codemirror_mode": {
    "name": "ipython",
    "version": 3
   },
   "file_extension": ".py",
   "mimetype": "text/x-python",
   "name": "python",
   "nbconvert_exporter": "python",
   "pygments_lexer": "ipython3",
   "version": "3.9.16"
  },
  "orig_nbformat": 4
 },
 "nbformat": 4,
 "nbformat_minor": 2
}
