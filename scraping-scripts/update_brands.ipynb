{
 "cells": [
  {
   "cell_type": "code",
   "execution_count": 1,
   "metadata": {},
   "outputs": [],
   "source": [
    "# ! pip install pyyaml\n"
   ]
  },
  {
   "cell_type": "code",
   "execution_count": 2,
   "metadata": {},
   "outputs": [],
   "source": [
    "import pandas as pd\n",
    "import yaml\n",
    "import pyodbc "
   ]
  },
  {
   "attachments": {},
   "cell_type": "markdown",
   "metadata": {},
   "source": [
    "## Functions"
   ]
  },
  {
   "cell_type": "code",
   "execution_count": 3,
   "metadata": {},
   "outputs": [],
   "source": [
    "def extract_brands(file):\n",
    "    df = pd.read_csv(file)\n",
    "    unique_brands = df.brand.unique()\n",
    "    return unique_brands"
   ]
  },
  {
   "attachments": {},
   "cell_type": "markdown",
   "metadata": {},
   "source": [
    "## Db init"
   ]
  },
  {
   "cell_type": "code",
   "execution_count": 4,
   "metadata": {},
   "outputs": [],
   "source": [
    "cn = pyodbc.connect('Driver={ODBC Driver 17 for SQL Server};Server=(localdb)\\mssqllocaldb;Database=AffordableSkin;Trusted_Connection=yes')\n"
   ]
  },
  {
   "cell_type": "code",
   "execution_count": 5,
   "metadata": {},
   "outputs": [],
   "source": [
    "cr = cn.cursor()"
   ]
  },
  {
   "attachments": {},
   "cell_type": "markdown",
   "metadata": {},
   "source": [
    "## Get configuration strings"
   ]
  },
  {
   "cell_type": "code",
   "execution_count": 6,
   "metadata": {},
   "outputs": [
    {
     "name": "stdout",
     "output_type": "stream",
     "text": [
      "{'include_files': ['coslovemetics_all_products.csv', 'yeppeuda_all_products.csv']}\n"
     ]
    }
   ],
   "source": [
    "with open(r'config.yaml') as file:\n",
    "    conf = yaml.load(file, Loader=yaml.FullLoader)\n",
    "    print(conf)"
   ]
  },
  {
   "cell_type": "code",
   "execution_count": 7,
   "metadata": {},
   "outputs": [],
   "source": [
    "include_files = conf['include_files']"
   ]
  },
  {
   "attachments": {},
   "cell_type": "markdown",
   "metadata": {},
   "source": [
    "## Get existing brands"
   ]
  },
  {
   "cell_type": "code",
   "execution_count": 30,
   "metadata": {},
   "outputs": [],
   "source": [
    "sql = \"select * from Brand\"\n",
    "cr.execute(sql)\n",
    "brands = cr.fetchall()"
   ]
  },
  {
   "cell_type": "code",
   "execution_count": 31,
   "metadata": {},
   "outputs": [],
   "source": [
    "brands = list(map(lambda b: b[0],brands))"
   ]
  },
  {
   "cell_type": "code",
   "execution_count": 32,
   "metadata": {},
   "outputs": [
    {
     "data": {
      "text/plain": [
       "['ahc',\n",
       " 'altruist',\n",
       " 'apieu',\n",
       " 'attitude living',\n",
       " 'axis-y',\n",
       " 'banila co',\n",
       " 'beauty of joseon',\n",
       " 'benton',\n",
       " 'cosrx',\n",
       " 'cp-1',\n",
       " 'double dare',\n",
       " 'dr. jart',\n",
       " 'dr.ceuracle',\n",
       " 'dr.jart+',\n",
       " 'enough',\n",
       " 'etude',\n",
       " 'eyenlip',\n",
       " 'face shop',\n",
       " 'farm stay',\n",
       " 'floslek',\n",
       " 'fluff',\n",
       " 'frudia',\n",
       " 'geek&gorgeous',\n",
       " 'haruharu',\n",
       " 'heimish',\n",
       " 'innisfree',\n",
       " 'isntree',\n",
       " 'iunik',\n",
       " 'laneige',\n",
       " 'mary n may',\n",
       " 'missha',\n",
       " 'mom & who',\n",
       " 'nacomi',\n",
       " 'nacomi baby',\n",
       " 'nature republic',\n",
       " 'neogen',\n",
       " 'one thing',\n",
       " 'purito',\n",
       " 'pyunkang yul',\n",
       " 'rom&nd',\n",
       " 'skin food',\n",
       " 'skinrx lab',\n",
       " 'some by mi',\n",
       " 'suntique',\n",
       " 'surmedic',\n",
       " 'tiam',\n",
       " 'tocobo',\n",
       " 'tonymoly',\n",
       " 'trust my sister',\n",
       " 'unleashia']"
      ]
     },
     "execution_count": 32,
     "metadata": {},
     "output_type": "execute_result"
    }
   ],
   "source": [
    "brands"
   ]
  },
  {
   "cell_type": "code",
   "execution_count": 33,
   "metadata": {},
   "outputs": [],
   "source": [
    "new_brands = []"
   ]
  },
  {
   "cell_type": "code",
   "execution_count": 34,
   "metadata": {},
   "outputs": [],
   "source": [
    "for file in include_files:\n",
    "    brands_in_file = extract_brands(file)\n",
    "    for b in brands_in_file: \n",
    "        if b not in brands: \n",
    "            new_brands.append(b.lower()) "
   ]
  },
  {
   "cell_type": "code",
   "execution_count": 35,
   "metadata": {},
   "outputs": [],
   "source": [
    "new_brands = list(set(new_brands))"
   ]
  },
  {
   "cell_type": "code",
   "execution_count": 36,
   "metadata": {},
   "outputs": [
    {
     "data": {
      "text/plain": [
       "[]"
      ]
     },
     "execution_count": 36,
     "metadata": {},
     "output_type": "execute_result"
    }
   ],
   "source": [
    "new_brands"
   ]
  },
  {
   "cell_type": "code",
   "execution_count": 37,
   "metadata": {},
   "outputs": [],
   "source": [
    "for brand in new_brands:\n",
    "    sql = \"insert into Brand values (?)\"\n",
    "    values = (brand)\n",
    "    cr.execute(sql,values)\n",
    "    cn.commit()"
   ]
  },
  {
   "cell_type": "code",
   "execution_count": 38,
   "metadata": {},
   "outputs": [],
   "source": [
    "cn.commit()\n",
    "cr.close()\n",
    "cn.close()\n"
   ]
  }
 ],
 "metadata": {
  "kernelspec": {
   "display_name": "affordable-skin",
   "language": "python",
   "name": "python3"
  },
  "language_info": {
   "codemirror_mode": {
    "name": "ipython",
    "version": 3
   },
   "file_extension": ".py",
   "mimetype": "text/x-python",
   "name": "python",
   "nbconvert_exporter": "python",
   "pygments_lexer": "ipython3",
   "version": "3.9.16"
  },
  "orig_nbformat": 4
 },
 "nbformat": 4,
 "nbformat_minor": 2
}
